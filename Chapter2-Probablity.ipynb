{
 "cells": [
  {
   "cell_type": "markdown",
   "metadata": {},
   "source": [
    "Hey Folks , Lets talk Probablity"
   ]
  },
  {
   "cell_type": "markdown",
   "metadata": {},
   "source": [
    "# Introduction"
   ]
  },
  {
   "cell_type": "markdown",
   "metadata": {},
   "source": [
    "This Chapter reviews some of the key concepts of the probalblity that we need later in the book so lets start by asking <br>\n",
    "\n",
    "__What is Probablity?__ <br>\n",
    "According to the book there are two ways of interpreting/explaining this \n",
    "- Frequentist Interpretation\n",
    "- Bayesian Interpretation\n",
    "\n",
    "Lets understand what we mean by interprtation by an example <br>\n",
    "_\"the probability that a coin will land heads is 0.5\"_ \n",
    "we can interpreat this in two ways \n",
    "- Frequentist Interpretation :-  **_In this view, probabilities represent long run frequencies of events._** As per this interpreation the above statement means that, if we ﬂip the coin many times, we expect it to land heads about half the time.\n",
    "\n",
    "\n",
    "- Bayesian Interpretation :- **_In this view, probability is used to quantify our uncertainty about something; hence it is fundamentally related to information rather than repeated trials._** As per this interpreation the above statement means that, the probablity of landing head is 50%.\n",
    "\n",
    "The idea of repeated trials(frequentist interpreation) does not make sense for our machine learning modelling examples, for example -  we might have received a speciﬁc email message, and want to compute the probability it is spam. Or we might have observed a “blip” on our radar screen, and want to compute the probability distribution over the location of the corresponding target (be it a bird, plane, or missile).In these examples as we can see ftequencies of occurance doen't make sense.\n",
    "\n",
    "whearas the Bayesian interpretation is valid and indeed quite natural so we are going to use bayesian interpreation throughtout this book althrought basic rules of probablity remains same.\n"
   ]
  },
  {
   "cell_type": "code",
   "execution_count": null,
   "metadata": {},
   "outputs": [],
   "source": []
  },
  {
   "cell_type": "code",
   "execution_count": null,
   "metadata": {},
   "outputs": [],
   "source": []
  }
 ],
 "metadata": {
  "kernelspec": {
   "display_name": "Python 3",
   "language": "python",
   "name": "python3"
  },
  "language_info": {
   "codemirror_mode": {
    "name": "ipython",
    "version": 3
   },
   "file_extension": ".py",
   "mimetype": "text/x-python",
   "name": "python",
   "nbconvert_exporter": "python",
   "pygments_lexer": "ipython3",
   "version": "3.7.0"
  }
 },
 "nbformat": 4,
 "nbformat_minor": 2
}
