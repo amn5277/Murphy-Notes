{
 "cells": [
  {
   "cell_type": "markdown",
   "metadata": {},
   "source": [
    "Hey Folks , Lets talk machine learning \n",
    "\n",
    "The idea of this blog series is to briefly summarize the chapters of the book Machine Learning-A Probablistic Persepective by K. Murphy.The goal of this book is to present a unified view of the field through the lens of problistic modelling and inference.\n",
    "\n",
    "\n",
    "The idea of this series is to take out intersting insights from the book rather than explaining all those familiar concepts available again"
   ]
  },
  {
   "cell_type": "markdown",
   "metadata": {},
   "source": [
    "# Machine Learning - A automated method of data analysis"
   ]
  },
  {
   "cell_type": "markdown",
   "metadata": {},
   "source": [
    "The Chapter-1 of the book talk about machine leaning as a advanced form of data analysis for better and automated decision making. Introduction of this book gives a view that the book is going to be a study of various probablistic approch that are used in machine learning.It defines machine learning as follows :\n",
    "\n",
    "\n",
    "__*\"\"The book defines machine learning as a set of methods that can automatically detect patterns in data, and then use the uncovered patterns to predict future data, or to perform other kinds of decision making under uncertainty.\"\"*__"
   ]
  },
  {
   "cell_type": "markdown",
   "metadata": {},
   "source": [
    "# Types of Machine Learning "
   ]
  },
  {
   "cell_type": "markdown",
   "metadata": {},
   "source": [
    "The author then moves to the next section with that is to the types of machine learning which are:\n",
    "- Supervised Learning\n",
    "    - Classification/Pattern Recogination\n",
    "    - Regression\n",
    "- Unsupervised Learning/Knowledge Discovery\n",
    "    - Discovering Cluster\n",
    "    - Discovering Latent Factors (Latent means Hidden)\n",
    "    - Discovering Graph Structure\n",
    "    - Matrix Completion\n",
    "- Reinforcement Learning (Out of scope of this book)\n"
   ]
  },
  {
   "cell_type": "markdown",
   "metadata": {},
   "source": [
    "### Supervised Learning "
   ]
  },
  {
   "cell_type": "markdown",
   "metadata": {},
   "source": [
    "#### Classification"
   ]
  },
  {
   "cell_type": "markdown",
   "metadata": {},
   "source": [
    " What we do in Supervised Learning is __Funtion Estimation__ as given in the book <br> \n",
    " <br>\n",
    " \n",
    " __*\"\"We assume $y = f(x)$ for some unknown function f, and the goal of learning is to estimate the function f given a labeled \n",
    " training set, and then to make predictions using $ˆ y = ˆ f(x).$\"\"*__ <br>\n",
    " <br>\n",
    " \n",
    " Our main goal is to make prediction from the previously unseen data points this is called __Generalization.__ A good example explaining the above is given in the book<br>\n",
    " \n",
    "<img src=\"Images/C1F1.png\"  style=\"width:800px;height:300px;\">\n",
    "\n",
    "In above Figure, the test cases are a blue crescent, a yellow circle and a blue arrow. None of these have been seen before. Thus we are required to generalize beyond the training set. The yellow circle is harder to classify, since some yellow things are labeled y =1 and some are labeled y =0, and some circles are labeled y =1and some y =0. Consequently it is not clear what the right label should be in the case of the yellow circle. Similarly, the correct label for the blue arrow is unclear.\n",
    "\n",
    "Here is the place where the need of probalblity comes in.\n",
    "\n",
    "We find conditional probalblity of every class given our training examples and input vector and it is represented as follows<br>\n",
    "$ p(y|x,D)$ <br>\n",
    "where<br>\n",
    "\n",
    "- y- output class \n",
    "- x- input vector\n",
    "- D- Training Set\n",
    "<br>\n",
    "\n",
    "\n",
    "We basically find conditional probalblity over all the classes and in most cases use the gives the class with maxiumm probalblity as the estimated class."
   ]
  },
  {
   "cell_type": "markdown",
   "metadata": {},
   "source": [
    "#### Regression"
   ]
  },
  {
   "cell_type": "markdown",
   "metadata": {},
   "source": [
    "Regression is just like classiﬁcation except the response variable is continuous. "
   ]
  },
  {
   "cell_type": "markdown",
   "metadata": {},
   "source": [
    "### Unsupervised Learning"
   ]
  },
  {
   "cell_type": "markdown",
   "metadata": {},
   "source": [
    "##### Discovering Clusters"
   ]
  },
  {
   "cell_type": "markdown",
   "metadata": {},
   "source": [
    "##### Discovering Latent Factors"
   ]
  },
  {
   "cell_type": "markdown",
   "metadata": {},
   "source": [
    "##### Discovering Graph Structure"
   ]
  },
  {
   "cell_type": "markdown",
   "metadata": {},
   "source": [
    "##### Matrix Completion"
   ]
  },
  {
   "cell_type": "markdown",
   "metadata": {},
   "source": [
    "Typical difference between data mining and machine learning: in data mining, there is more emphasis on interpretable models, whereas in machine learning, there is more emphasis on accurate models.\n"
   ]
  },
  {
   "cell_type": "markdown",
   "metadata": {},
   "source": [
    "# Some Basic Concepts in Machine Learning"
   ]
  },
  {
   "cell_type": "code",
   "execution_count": null,
   "metadata": {},
   "outputs": [],
   "source": []
  }
 ],
 "metadata": {
  "kernelspec": {
   "display_name": "Python 3",
   "language": "python",
   "name": "python3"
  },
  "language_info": {
   "codemirror_mode": {
    "name": "ipython",
    "version": 3
   },
   "file_extension": ".py",
   "mimetype": "text/x-python",
   "name": "python",
   "nbconvert_exporter": "python",
   "pygments_lexer": "ipython3",
   "version": "3.7.0"
  }
 },
 "nbformat": 4,
 "nbformat_minor": 2
}
